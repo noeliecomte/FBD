{
  "cells": [
    {
      "cell_type": "markdown",
      "metadata": {
        "id": "4RQFxvNmcIdT"
      },
      "source": [
        "#TP Spark\n",
        "### Noëlie COMTE"
      ]
    },
    {
      "cell_type": "markdown",
      "metadata": {
        "id": "GW3Tu-P4cSyo"
      },
      "source": [
        "##Initialisation de Spark"
      ]
    },
    {
      "cell_type": "code",
      "execution_count": 1,
      "metadata": {},
      "outputs": [
        {
          "name": "stdout",
          "output_type": "stream",
          "text": [
            "Collecting pyspark\n",
            "  Downloading pyspark-3.5.4.tar.gz (317.3 MB)\n",
            "\u001b[2K     \u001b[90m━━━━━━━━━━━━━━━━━━━━━━━━━━━━━━━━━━━━━━\u001b[0m \u001b[32m317.3/317.3 MB\u001b[0m \u001b[31m49.4 MB/s\u001b[0m eta \u001b[36m0:00:00\u001b[0m00:01\u001b[0m00:01\u001b[0m\n",
            "\u001b[?25h  Installing build dependencies ... \u001b[?25ldone\n",
            "\u001b[?25h  Getting requirements to build wheel ... \u001b[?25ldone\n",
            "\u001b[?25h  Preparing metadata (pyproject.toml) ... \u001b[?25ldone\n",
            "\u001b[?25hCollecting py4j==0.10.9.7 (from pyspark)\n",
            "  Downloading py4j-0.10.9.7-py2.py3-none-any.whl.metadata (1.5 kB)\n",
            "Downloading py4j-0.10.9.7-py2.py3-none-any.whl (200 kB)\n",
            "Building wheels for collected packages: pyspark\n",
            "  Building wheel for pyspark (pyproject.toml) ... \u001b[?25ldone\n",
            "\u001b[?25h  Created wheel for pyspark: filename=pyspark-3.5.4-py2.py3-none-any.whl size=317849827 sha256=7f0a3fc54a8634150ec0f62332e66bd87b0b350577529986042536f5a849f819\n",
            "  Stored in directory: /home/codespace/.cache/pip/wheels/13/92/64/da92a3521323cc629fdf25dd56eb26938e08014c1b57ad3759\n",
            "Successfully built pyspark\n",
            "Installing collected packages: py4j, pyspark\n",
            "Successfully installed py4j-0.10.9.7 pyspark-3.5.4\n",
            "\n",
            "\u001b[1m[\u001b[0m\u001b[34;49mnotice\u001b[0m\u001b[1;39;49m]\u001b[0m\u001b[39;49m A new release of pip is available: \u001b[0m\u001b[31;49m24.3.1\u001b[0m\u001b[39;49m -> \u001b[0m\u001b[32;49m25.0\u001b[0m\n",
            "\u001b[1m[\u001b[0m\u001b[34;49mnotice\u001b[0m\u001b[1;39;49m]\u001b[0m\u001b[39;49m To update, run: \u001b[0m\u001b[32;49mpip install --upgrade pip\u001b[0m\n",
            "Note: you may need to restart the kernel to use updated packages.\n"
          ]
        }
      ],
      "source": [
        "pip install pyspark"
      ]
    },
    {
      "cell_type": "code",
      "execution_count": 2,
      "metadata": {
        "id": "J2EDP0MzbirS"
      },
      "outputs": [
        {
          "name": "stderr",
          "output_type": "stream",
          "text": [
            "25/01/28 17:41:47 WARN Utils: Your hostname, codespaces-26c329 resolves to a loopback address: 127.0.0.1; using 10.0.0.115 instead (on interface eth0)\n",
            "25/01/28 17:41:47 WARN Utils: Set SPARK_LOCAL_IP if you need to bind to another address\n",
            "Setting default log level to \"WARN\".\n",
            "To adjust logging level use sc.setLogLevel(newLevel). For SparkR, use setLogLevel(newLevel).\n",
            "25/01/28 17:41:47 WARN NativeCodeLoader: Unable to load native-hadoop library for your platform... using builtin-java classes where applicable\n"
          ]
        }
      ],
      "source": [
        "from pyspark.sql import SparkSession\n",
        "\n",
        "# Créer une SparkSession\n",
        "spark = SparkSession.builder \\\n",
        "    .appName(\"MyApp\") \\\n",
        "    .master(\"local\") \\\n",
        "    .getOrCreate()\n",
        "\n",
        "# Récupérer le SparkContext\n",
        "sc = spark.sparkContext\n"
      ]
    },
    {
      "cell_type": "markdown",
      "metadata": {
        "id": "oBmjMQU1cWjC"
      },
      "source": [
        "##TP fait en cours"
      ]
    },
    {
      "cell_type": "markdown",
      "metadata": {
        "id": "Xzhpk_zKcZT0"
      },
      "source": [
        "Crer une liste de nombres, afficher le nombre de partitions"
      ]
    },
    {
      "cell_type": "code",
      "execution_count": 3,
      "metadata": {
        "colab": {
          "base_uri": "https://localhost:8080/"
        },
        "id": "ZwXSbe4wb3Ok",
        "outputId": "5156097e-7542-474b-c8a9-190c43cae687"
      },
      "outputs": [
        {
          "data": {
            "text/plain": [
              "[1, 2, 3, 4]"
            ]
          },
          "execution_count": 3,
          "metadata": {},
          "output_type": "execute_result"
        }
      ],
      "source": [
        "\n",
        "numbers = [1,2,3,4]\n",
        "\n",
        "#On crée la RDD\n",
        "\n",
        "rdd = sc.parallelize(numbers)\n",
        "\n",
        "#On affiche le RDD\n",
        "\n",
        "rdd.collect()"
      ]
    },
    {
      "cell_type": "code",
      "execution_count": 4,
      "metadata": {
        "colab": {
          "base_uri": "https://localhost:8080/"
        },
        "id": "6pvFlVlU0cWz",
        "outputId": "14748117-7ee4-4bee-b119-41d3380cad47"
      },
      "outputs": [
        {
          "data": {
            "text/plain": [
              "1"
            ]
          },
          "execution_count": 4,
          "metadata": {},
          "output_type": "execute_result"
        },
        {
          "name": "stderr",
          "output_type": "stream",
          "text": [
            "25/01/28 17:42:01 WARN GarbageCollectionMetrics: To enable non-built-in garbage collector(s) List(G1 Concurrent GC), users should configure it(them) to spark.eventLog.gcMetrics.youngGenerationGarbageCollectors or spark.eventLog.gcMetrics.oldGenerationGarbageCollectors\n"
          ]
        }
      ],
      "source": [
        "rdd.getNumPartitions() #nombre de partitions"
      ]
    },
    {
      "cell_type": "markdown",
      "metadata": {
        "id": "wgZm47NKcgZG"
      },
      "source": [
        "Créer la liste\n",
        "\n",
        "- Paris, 75\n",
        "- Nice, 06\n",
        "- Marseille, 13\n",
        "\n",
        "Créer un rdd_city a partir de cette liste puis afficher les villes en majuscule"
      ]
    },
    {
      "cell_type": "code",
      "execution_count": 5,
      "metadata": {
        "colab": {
          "base_uri": "https://localhost:8080/"
        },
        "id": "HHnOYmo1b_nj",
        "outputId": "bc60a9a4-87c3-4a90-9566-557abfb7ea5e"
      },
      "outputs": [
        {
          "name": "stderr",
          "output_type": "stream",
          "text": [
            "                                                                                \r"
          ]
        },
        {
          "data": {
            "text/plain": [
              "[(<function str.upper()>, 75),\n",
              " (<function str.upper()>, 6),\n",
              " (<function str.upper()>, 13)]"
            ]
          },
          "execution_count": 5,
          "metadata": {},
          "output_type": "execute_result"
        }
      ],
      "source": [
        "city = [(\"Paris\", 75),(\"Nice\", 6),(\"Marseille\", 13)]\n",
        "\n",
        "rdd_city = sc.parallelize(city) #transformation n°1\n",
        "\n",
        "rdd_upper = rdd_city.map(lambda x: (x[0].upper, x[1])) #transformation n°2 #On enlève vonlontairement les parenthèses pour tester les erreurs puis on les remets\n",
        "\n",
        "rdd_upper.collect() #action"
      ]
    },
    {
      "cell_type": "markdown",
      "metadata": {
        "id": "7CUgXlVncvHJ"
      },
      "source": [
        "*Sans collect il n'y a pas d'erreur, avec collect il y a une erreur.*\n",
        "\n",
        "*Pendant la transformation, il n'affiche pas l'erreur, il ne va l'afficher que pendant l'action.*\n",
        "\n",
        "*Spark est lazy.*\n",
        "\n",
        "*Il execute le DAG pendant l'action car il optimise*"
      ]
    },
    {
      "cell_type": "code",
      "execution_count": 6,
      "metadata": {
        "colab": {
          "base_uri": "https://localhost:8080/"
        },
        "id": "KQpbLOSAc-UJ",
        "outputId": "287564ab-e9dc-4154-bc40-fed6ed00b162"
      },
      "outputs": [
        {
          "data": {
            "text/plain": [
              "[('PARIS', 75), ('NICE', 6), ('MARSEILLE', 13)]"
            ]
          },
          "execution_count": 6,
          "metadata": {},
          "output_type": "execute_result"
        }
      ],
      "source": [
        "rdd_upper = rdd_city.map(lambda x: (x[0].upper(), x[1])) #transformation n°2 #On a corrigé l'erreur\n",
        "\n",
        "rdd_upper.collect() #action"
      ]
    },
    {
      "cell_type": "markdown",
      "metadata": {
        "id": "yKUMllAwdUWi"
      },
      "source": [
        "Afficher les 5 premières lignes du fichier Hamlet"
      ]
    },
    {
      "cell_type": "code",
      "execution_count": 7,
      "metadata": {
        "colab": {
          "base_uri": "https://localhost:8080/"
        },
        "id": "qJ-X-Ogue1_6",
        "outputId": "6c5411a2-baee-40c6-ae2d-f0c8e732772c"
      },
      "outputs": [
        {
          "name": "stdout",
          "output_type": "stream",
          "text": [
            "['Hamlet by William Shakespeare', 'Characters in the Play', '======================', 'THE GHOST', 'HAMLET, Prince of Denmark, son of the late King Hamlet and Queen Gertrude']\n"
          ]
        }
      ],
      "source": [
        "rdd = sc.textFile('hamlet.txt')\n",
        "print(rdd.take(5))"
      ]
    },
    {
      "cell_type": "markdown",
      "metadata": {
        "id": "DIqG-vFQfJ-H"
      },
      "source": [
        "*L'utilisation de take à la place de collect permet d'afficher un nombre précis de lignes à afficher*"
      ]
    },
    {
      "cell_type": "markdown",
      "metadata": {
        "id": "oiMwccLofXlU"
      },
      "source": [
        "Splitter les lignes en utilisant l'espace comme délimiteur pour n'avoir que les mots du texte\n",
        "\n",
        "On fait appel à flatMap"
      ]
    },
    {
      "cell_type": "code",
      "execution_count": 8,
      "metadata": {
        "colab": {
          "base_uri": "https://localhost:8080/"
        },
        "id": "JE8Rp1QPfTVM",
        "outputId": "3c801f4a-2510-4df1-f4b8-a4689269b149"
      },
      "outputs": [
        {
          "data": {
            "text/plain": [
              "['Hamlet',\n",
              " 'by',\n",
              " 'William',\n",
              " 'Shakespeare',\n",
              " 'Characters',\n",
              " 'in',\n",
              " 'the',\n",
              " 'Play',\n",
              " '======================',\n",
              " 'THE',\n",
              " 'GHOST',\n",
              " 'HAMLET,',\n",
              " 'Prince',\n",
              " 'of',\n",
              " 'Denmark,',\n",
              " 'son',\n",
              " 'of',\n",
              " 'the',\n",
              " 'late',\n",
              " 'King']"
            ]
          },
          "execution_count": 8,
          "metadata": {},
          "output_type": "execute_result"
        }
      ],
      "source": [
        "rdd_mots = rdd.flatMap(lambda line: line.split(\" \"))\n",
        "rdd_mots.take(20)"
      ]
    },
    {
      "cell_type": "markdown",
      "metadata": {
        "id": "sIpRT7y_nFbS"
      },
      "source": [
        "Compter combien de fois apparaissent les mots en faisant des couples"
      ]
    },
    {
      "cell_type": "code",
      "execution_count": 9,
      "metadata": {
        "colab": {
          "base_uri": "https://localhost:8080/"
        },
        "id": "iWX2HrJtdgdN",
        "outputId": "c76922d2-5928-4942-a45e-a4aabbe6098c"
      },
      "outputs": [
        {
          "data": {
            "text/plain": [
              "[('Hamlet', 8),\n",
              " ('by', 13),\n",
              " ('William', 1),\n",
              " ('Shakespeare', 1),\n",
              " ('Characters', 1)]"
            ]
          },
          "execution_count": 9,
          "metadata": {},
          "output_type": "execute_result"
        }
      ],
      "source": [
        "rdd_couple = rdd_mots.map(lambda mots: (mots,1))\n",
        "rdd_count = rdd_couple.reduceByKey(lambda x,y: x+y)\n",
        "rdd_count.take(5)"
      ]
    },
    {
      "cell_type": "code",
      "execution_count": 10,
      "metadata": {
        "colab": {
          "base_uri": "https://localhost:8080/",
          "height": 141
        },
        "id": "RGeeX3TAdUxA",
        "outputId": "268294bd-8414-49b4-a208-88aaa8fa4b28"
      },
      "outputs": [
        {
          "ename": "AttributeError",
          "evalue": "'PipelinedRDD' object has no attribute 'explain'",
          "output_type": "error",
          "traceback": [
            "\u001b[0;31m---------------------------------------------------------------------------\u001b[0m",
            "\u001b[0;31mAttributeError\u001b[0m                            Traceback (most recent call last)",
            "Cell \u001b[0;32mIn[10], line 1\u001b[0m\n\u001b[0;32m----> 1\u001b[0m \u001b[43mrdd_count\u001b[49m\u001b[38;5;241;43m.\u001b[39;49m\u001b[43mexplain\u001b[49m()\n",
            "\u001b[0;31mAttributeError\u001b[0m: 'PipelinedRDD' object has no attribute 'explain'"
          ]
        }
      ],
      "source": [
        "rdd_count.explain()"
      ]
    },
    {
      "cell_type": "markdown",
      "metadata": {
        "id": "jH8sYhDmkd1u"
      },
      "source": [
        "*Explain ne fonctionne pas sur les RDD mais seulement sur les dataframe*"
      ]
    },
    {
      "cell_type": "markdown",
      "metadata": {
        "id": "EitiO6NTkms_"
      },
      "source": [
        "Convertir en dataframe et on affiche"
      ]
    },
    {
      "cell_type": "code",
      "execution_count": 11,
      "metadata": {
        "colab": {
          "base_uri": "https://localhost:8080/"
        },
        "id": "rPMNriZtgapj",
        "outputId": "7d84146e-73ee-4c34-9bf5-974c82a77203"
      },
      "outputs": [
        {
          "name": "stdout",
          "output_type": "stream",
          "text": [
            "root\n",
            " |-- _1: string (nullable = true)\n",
            " |-- _2: long (nullable = true)\n",
            "\n"
          ]
        }
      ],
      "source": [
        "df1 = rdd_count.toDF()\n",
        "df1.printSchema()\n"
      ]
    },
    {
      "cell_type": "code",
      "execution_count": 12,
      "metadata": {
        "colab": {
          "base_uri": "https://localhost:8080/"
        },
        "id": "iKQ9BNoul3sq",
        "outputId": "5d87913e-22f4-48d9-933b-274d75861953"
      },
      "outputs": [
        {
          "name": "stdout",
          "output_type": "stream",
          "text": [
            "+--------------------+---+\n",
            "|                  _1| _2|\n",
            "+--------------------+---+\n",
            "|              Hamlet|  8|\n",
            "|                  by| 13|\n",
            "|             William|  1|\n",
            "|         Shakespeare|  1|\n",
            "|          Characters|  1|\n",
            "|                  in| 41|\n",
            "|                 the|101|\n",
            "|                Play|  1|\n",
            "|=================...|  1|\n",
            "|                 THE|  1|\n",
            "|               GHOST|  1|\n",
            "|             HAMLET,|  2|\n",
            "|              Prince|  2|\n",
            "|                  of| 80|\n",
            "|            Denmark,|  2|\n",
            "|                 son|  3|\n",
            "|                late|  3|\n",
            "|                King|  9|\n",
            "|                 and| 82|\n",
            "|               Queen|  1|\n",
            "+--------------------+---+\n",
            "only showing top 20 rows\n",
            "\n"
          ]
        }
      ],
      "source": [
        "df1.show()"
      ]
    },
    {
      "cell_type": "markdown",
      "metadata": {
        "id": "4iM0jIWRgrD3"
      },
      "source": [
        "*.collect sur le rdd*\n",
        "\n",
        "*.show sur le dataframe*"
      ]
    },
    {
      "cell_type": "markdown",
      "metadata": {
        "id": "EX3-f9Kjin8e"
      },
      "source": [
        "Faire un count sur hamlet_gros"
      ]
    },
    {
      "cell_type": "code",
      "execution_count": 13,
      "metadata": {
        "colab": {
          "base_uri": "https://localhost:8080/"
        },
        "id": "T_HuwUHjiOv5",
        "outputId": "32c6b12d-f710-44eb-b7f0-f4217caea016"
      },
      "outputs": [
        {
          "data": {
            "text/plain": [
              "10744"
            ]
          },
          "execution_count": 13,
          "metadata": {},
          "output_type": "execute_result"
        }
      ],
      "source": [
        "rdd_gros = sc.textFile('hamlet_gros.txt')\n",
        "rdd_gros.count()"
      ]
    },
    {
      "cell_type": "markdown",
      "metadata": {
        "id": "Qoh3c2Eeirsy"
      },
      "source": [
        "Faire un cache\n",
        "\n",
        "--> prendre rdd et faire .persist()"
      ]
    },
    {
      "cell_type": "code",
      "execution_count": 14,
      "metadata": {
        "colab": {
          "base_uri": "https://localhost:8080/"
        },
        "id": "fPFf6wbpi2Fy",
        "outputId": "2c58172d-3591-420d-bfc8-c386c96b53ff"
      },
      "outputs": [
        {
          "data": {
            "text/plain": [
              "10744"
            ]
          },
          "execution_count": 14,
          "metadata": {},
          "output_type": "execute_result"
        }
      ],
      "source": [
        "rdd_gros.persist()\n",
        "rdd_gros.count()"
      ]
    },
    {
      "cell_type": "markdown",
      "metadata": {
        "id": "x9l0mr7si2YB"
      },
      "source": [
        "Faire un autre count\n",
        "\n",
        "*Le but c'est de déclencher la transformation persist avec l'action count*\n",
        "\n",
        "*La première fois, c'est plus lent car le persist n'est pas encore déclenché*\n"
      ]
    },
    {
      "cell_type": "code",
      "execution_count": 15,
      "metadata": {
        "colab": {
          "base_uri": "https://localhost:8080/"
        },
        "id": "F6WuSIfvi4vV",
        "outputId": "e6720484-7b15-48be-aa07-66a29fe2363e"
      },
      "outputs": [
        {
          "data": {
            "text/plain": [
              "10744"
            ]
          },
          "execution_count": 15,
          "metadata": {},
          "output_type": "execute_result"
        }
      ],
      "source": [
        "rdd_gros.count()"
      ]
    }
  ],
  "metadata": {
    "colab": {
      "provenance": []
    },
    "kernelspec": {
      "display_name": "Python 3",
      "name": "python3"
    },
    "language_info": {
      "codemirror_mode": {
        "name": "ipython",
        "version": 3
      },
      "file_extension": ".py",
      "mimetype": "text/x-python",
      "name": "python",
      "nbconvert_exporter": "python",
      "pygments_lexer": "ipython3",
      "version": "3.12.1"
    }
  },
  "nbformat": 4,
  "nbformat_minor": 0
}
