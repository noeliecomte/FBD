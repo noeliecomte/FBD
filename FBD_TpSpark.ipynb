{
  "nbformat": 4,
  "nbformat_minor": 0,
  "metadata": {
    "colab": {
      "provenance": []
    },
    "kernelspec": {
      "name": "python3",
      "display_name": "Python 3"
    },
    "language_info": {
      "name": "python"
    }
  },
  "cells": [
    {
      "cell_type": "markdown",
      "source": [
        "#TP Spark\n",
        "### Noëlie COMTE"
      ],
      "metadata": {
        "id": "4RQFxvNmcIdT"
      }
    },
    {
      "cell_type": "markdown",
      "source": [
        "##Initialisation de Spark"
      ],
      "metadata": {
        "id": "GW3Tu-P4cSyo"
      }
    },
    {
      "cell_type": "code",
      "source": [
        "from pyspark.sql import SparkSession\n",
        "\n",
        "# Créer une SparkSession\n",
        "spark = SparkSession.builder \\\n",
        "    .appName(\"MyApp\") \\\n",
        "    .master(\"local\") \\\n",
        "    .getOrCreate()\n",
        "\n",
        "# Récupérer le SparkContext\n",
        "sc = spark.sparkContext\n"
      ],
      "metadata": {
        "id": "J2EDP0MzbirS"
      },
      "execution_count": 2,
      "outputs": []
    },
    {
      "cell_type": "markdown",
      "source": [
        "##TP fait en cours"
      ],
      "metadata": {
        "id": "oBmjMQU1cWjC"
      }
    },
    {
      "cell_type": "markdown",
      "source": [
        "Crer une liste de nombres, afficher le nombre de partitions"
      ],
      "metadata": {
        "id": "Xzhpk_zKcZT0"
      }
    },
    {
      "cell_type": "code",
      "source": [
        "\n",
        "numbers = [1,2,3,4]\n",
        "\n",
        "#On crée la RDD\n",
        "\n",
        "rdd = sc.parallelize(numbers)\n",
        "\n",
        "#On affiche le RDD\n",
        "\n",
        "rdd.collect()"
      ],
      "metadata": {
        "colab": {
          "base_uri": "https://localhost:8080/"
        },
        "id": "ZwXSbe4wb3Ok",
        "outputId": "5156097e-7542-474b-c8a9-190c43cae687"
      },
      "execution_count": 4,
      "outputs": [
        {
          "output_type": "execute_result",
          "data": {
            "text/plain": [
              "[1, 2, 3, 4]"
            ]
          },
          "metadata": {},
          "execution_count": 4
        }
      ]
    },
    {
      "cell_type": "code",
      "source": [
        "rdd.getNumPartitions() #nombre de partitions"
      ],
      "metadata": {
        "colab": {
          "base_uri": "https://localhost:8080/"
        },
        "id": "6pvFlVlU0cWz",
        "outputId": "14748117-7ee4-4bee-b119-41d3380cad47"
      },
      "execution_count": 5,
      "outputs": [
        {
          "output_type": "execute_result",
          "data": {
            "text/plain": [
              "1"
            ]
          },
          "metadata": {},
          "execution_count": 5
        }
      ]
    },
    {
      "cell_type": "markdown",
      "source": [
        "Créer la liste\n",
        "\n",
        "- Paris, 75\n",
        "- Nice, 06\n",
        "- Marseille, 13\n",
        "\n",
        "Créer un rdd_city a partir de cette liste puis afficher les villes en majuscule"
      ],
      "metadata": {
        "id": "wgZm47NKcgZG"
      }
    },
    {
      "cell_type": "code",
      "source": [
        "city = [(\"Paris\", 75),(\"Nice\", 6),(\"Marseille\", 13)]\n",
        "\n",
        "rdd_city = sc.parallelize(city) #transformation n°1\n",
        "\n",
        "rdd_upper = rdd_city.map(lambda x: (x[0].upper, x[1])) #transformation n°2 #On enlève vonlontairement les parenthèses pour tester les erreurs puis on les remets\n",
        "\n",
        "rdd_upper.collect() #action"
      ],
      "metadata": {
        "colab": {
          "base_uri": "https://localhost:8080/"
        },
        "id": "HHnOYmo1b_nj",
        "outputId": "bc60a9a4-87c3-4a90-9566-557abfb7ea5e"
      },
      "execution_count": 47,
      "outputs": [
        {
          "output_type": "execute_result",
          "data": {
            "text/plain": [
              "[(<function str.upper()>, 75),\n",
              " (<function str.upper()>, 6),\n",
              " (<function str.upper()>, 13)]"
            ]
          },
          "metadata": {},
          "execution_count": 47
        }
      ]
    },
    {
      "cell_type": "markdown",
      "source": [
        "*Sans collect il n'y a pas d'erreur, avec collect il y a une erreur.*\n",
        "\n",
        "*Pendant la transformation, il n'affiche pas l'erreur, il ne va l'afficher que pendant l'action.*\n",
        "\n",
        "*Spark est lazy.*\n",
        "\n",
        "*Il execute le DAG pendant l'action car il optimise*"
      ],
      "metadata": {
        "id": "7CUgXlVncvHJ"
      }
    },
    {
      "cell_type": "code",
      "source": [
        "rdd_upper = rdd_city.map(lambda x: (x[0].upper(), x[1])) #transformation n°2 #On a corrigé l'erreur\n",
        "\n",
        "rdd_upper.collect() #action"
      ],
      "metadata": {
        "colab": {
          "base_uri": "https://localhost:8080/"
        },
        "id": "KQpbLOSAc-UJ",
        "outputId": "287564ab-e9dc-4154-bc40-fed6ed00b162"
      },
      "execution_count": 48,
      "outputs": [
        {
          "output_type": "execute_result",
          "data": {
            "text/plain": [
              "[('PARIS', 75), ('NICE', 6), ('MARSEILLE', 13)]"
            ]
          },
          "metadata": {},
          "execution_count": 48
        }
      ]
    },
    {
      "cell_type": "markdown",
      "source": [
        "Afficher les 5 premières lignes du fichier Hamlet"
      ],
      "metadata": {
        "id": "yKUMllAwdUWi"
      }
    },
    {
      "cell_type": "code",
      "source": [
        "rdd = sc.textFile('hamlet.txt')\n",
        "print(rdd.take(5))"
      ],
      "metadata": {
        "colab": {
          "base_uri": "https://localhost:8080/"
        },
        "id": "qJ-X-Ogue1_6",
        "outputId": "6c5411a2-baee-40c6-ae2d-f0c8e732772c"
      },
      "execution_count": 60,
      "outputs": [
        {
          "output_type": "stream",
          "name": "stdout",
          "text": [
            "['Hamlet by William Shakespeare', 'Characters in the Play', '======================', 'THE GHOST', 'HAMLET, Prince of Denmark, son of the late King Hamlet and Queen Gertrude']\n"
          ]
        }
      ]
    },
    {
      "cell_type": "markdown",
      "source": [
        "*L'utilisation de take à la place de collect permet d'afficher un nombre précis de lignes à afficher*"
      ],
      "metadata": {
        "id": "DIqG-vFQfJ-H"
      }
    },
    {
      "cell_type": "markdown",
      "source": [
        "Splitter les lignes en utilisant l'espace comme délimiteur pour n'avoir que les mots du texte\n",
        "\n",
        "On fait appel à flatMap"
      ],
      "metadata": {
        "id": "oiMwccLofXlU"
      }
    },
    {
      "cell_type": "code",
      "source": [
        "rdd_mots = rdd.flatMap(lambda line: line.split(\" \"))\n",
        "rdd_mots.take(20)"
      ],
      "metadata": {
        "colab": {
          "base_uri": "https://localhost:8080/"
        },
        "id": "JE8Rp1QPfTVM",
        "outputId": "3c801f4a-2510-4df1-f4b8-a4689269b149"
      },
      "execution_count": 61,
      "outputs": [
        {
          "output_type": "execute_result",
          "data": {
            "text/plain": [
              "['Hamlet',\n",
              " 'by',\n",
              " 'William',\n",
              " 'Shakespeare',\n",
              " 'Characters',\n",
              " 'in',\n",
              " 'the',\n",
              " 'Play',\n",
              " '======================',\n",
              " 'THE',\n",
              " 'GHOST',\n",
              " 'HAMLET,',\n",
              " 'Prince',\n",
              " 'of',\n",
              " 'Denmark,',\n",
              " 'son',\n",
              " 'of',\n",
              " 'the',\n",
              " 'late',\n",
              " 'King']"
            ]
          },
          "metadata": {},
          "execution_count": 61
        }
      ]
    },
    {
      "cell_type": "markdown",
      "source": [
        "Compter combien de fois apparaissent les mots en faisant des couples"
      ],
      "metadata": {
        "id": "sIpRT7y_nFbS"
      }
    },
    {
      "cell_type": "code",
      "source": [
        "rdd_couple = rdd_mots.map(lambda mots: (mots,1))\n",
        "rdd_count = rdd_couple.reduceByKey(lambda x,y: x+y)\n",
        "rdd_count.take(5)"
      ],
      "metadata": {
        "colab": {
          "base_uri": "https://localhost:8080/"
        },
        "id": "iWX2HrJtdgdN",
        "outputId": "c76922d2-5928-4942-a45e-a4aabbe6098c"
      },
      "execution_count": 62,
      "outputs": [
        {
          "output_type": "execute_result",
          "data": {
            "text/plain": [
              "[('Hamlet', 8),\n",
              " ('by', 13),\n",
              " ('William', 1),\n",
              " ('Shakespeare', 1),\n",
              " ('Characters', 1)]"
            ]
          },
          "metadata": {},
          "execution_count": 62
        }
      ]
    },
    {
      "cell_type": "code",
      "source": [
        "rdd_count.explain()"
      ],
      "metadata": {
        "colab": {
          "base_uri": "https://localhost:8080/",
          "height": 141
        },
        "id": "RGeeX3TAdUxA",
        "outputId": "268294bd-8414-49b4-a208-88aaa8fa4b28"
      },
      "execution_count": 63,
      "outputs": [
        {
          "output_type": "error",
          "ename": "AttributeError",
          "evalue": "'PipelinedRDD' object has no attribute 'explain'",
          "traceback": [
            "\u001b[0;31m---------------------------------------------------------------------------\u001b[0m",
            "\u001b[0;31mAttributeError\u001b[0m                            Traceback (most recent call last)",
            "\u001b[0;32m<ipython-input-63-f32268e17da3>\u001b[0m in \u001b[0;36m<cell line: 0>\u001b[0;34m()\u001b[0m\n\u001b[0;32m----> 1\u001b[0;31m \u001b[0mrdd_count\u001b[0m\u001b[0;34m.\u001b[0m\u001b[0mexplain\u001b[0m\u001b[0;34m(\u001b[0m\u001b[0;34m)\u001b[0m\u001b[0;34m\u001b[0m\u001b[0;34m\u001b[0m\u001b[0m\n\u001b[0m",
            "\u001b[0;31mAttributeError\u001b[0m: 'PipelinedRDD' object has no attribute 'explain'"
          ]
        }
      ]
    },
    {
      "cell_type": "markdown",
      "source": [
        "*Explain ne fonctionne pas sur les RDD mais seulement sur les dataframe*"
      ],
      "metadata": {
        "id": "jH8sYhDmkd1u"
      }
    },
    {
      "cell_type": "markdown",
      "source": [
        "Convertir en dataframe et on affiche"
      ],
      "metadata": {
        "id": "EitiO6NTkms_"
      }
    },
    {
      "cell_type": "code",
      "source": [
        "df1 = rdd_count.toDF()\n",
        "df1.printSchema()\n"
      ],
      "metadata": {
        "colab": {
          "base_uri": "https://localhost:8080/"
        },
        "id": "rPMNriZtgapj",
        "outputId": "7d84146e-73ee-4c34-9bf5-974c82a77203"
      },
      "execution_count": 66,
      "outputs": [
        {
          "output_type": "stream",
          "name": "stdout",
          "text": [
            "root\n",
            " |-- _1: string (nullable = true)\n",
            " |-- _2: long (nullable = true)\n",
            "\n"
          ]
        }
      ]
    },
    {
      "cell_type": "code",
      "source": [
        "df1.show()"
      ],
      "metadata": {
        "colab": {
          "base_uri": "https://localhost:8080/"
        },
        "id": "iKQ9BNoul3sq",
        "outputId": "5d87913e-22f4-48d9-933b-274d75861953"
      },
      "execution_count": 65,
      "outputs": [
        {
          "output_type": "stream",
          "name": "stdout",
          "text": [
            "+--------------------+---+\n",
            "|                  _1| _2|\n",
            "+--------------------+---+\n",
            "|              Hamlet|  8|\n",
            "|                  by| 13|\n",
            "|             William|  1|\n",
            "|         Shakespeare|  1|\n",
            "|          Characters|  1|\n",
            "|                  in| 41|\n",
            "|                 the|101|\n",
            "|                Play|  1|\n",
            "|=================...|  1|\n",
            "|                 THE|  1|\n",
            "|               GHOST|  1|\n",
            "|             HAMLET,|  2|\n",
            "|              Prince|  2|\n",
            "|                  of| 80|\n",
            "|            Denmark,|  2|\n",
            "|                 son|  3|\n",
            "|                late|  3|\n",
            "|                King|  9|\n",
            "|                 and| 82|\n",
            "|               Queen|  1|\n",
            "+--------------------+---+\n",
            "only showing top 20 rows\n",
            "\n"
          ]
        }
      ]
    },
    {
      "cell_type": "markdown",
      "source": [
        "*.collect sur le rdd*\n",
        "\n",
        "*.show sur le dataframe*"
      ],
      "metadata": {
        "id": "4iM0jIWRgrD3"
      }
    },
    {
      "cell_type": "markdown",
      "source": [
        "Faire un count sur hamlet_gros"
      ],
      "metadata": {
        "id": "EX3-f9Kjin8e"
      }
    },
    {
      "cell_type": "code",
      "source": [
        "rdd_gros = sc.textFile('hamlet_gros.txt')\n",
        "rdd_gros.count()"
      ],
      "metadata": {
        "colab": {
          "base_uri": "https://localhost:8080/"
        },
        "id": "T_HuwUHjiOv5",
        "outputId": "32c6b12d-f710-44eb-b7f0-f4217caea016"
      },
      "execution_count": 56,
      "outputs": [
        {
          "output_type": "execute_result",
          "data": {
            "text/plain": [
              "10744"
            ]
          },
          "metadata": {},
          "execution_count": 56
        }
      ]
    },
    {
      "cell_type": "markdown",
      "source": [
        "Faire un cache\n",
        "\n",
        "--> prendre rdd et faire .persist()"
      ],
      "metadata": {
        "id": "Qoh3c2Eeirsy"
      }
    },
    {
      "cell_type": "code",
      "source": [
        "rdd_gros.persist()\n",
        "rdd_gros.count()"
      ],
      "metadata": {
        "id": "fPFf6wbpi2Fy",
        "colab": {
          "base_uri": "https://localhost:8080/"
        },
        "outputId": "2c58172d-3591-420d-bfc8-c386c96b53ff"
      },
      "execution_count": 57,
      "outputs": [
        {
          "output_type": "execute_result",
          "data": {
            "text/plain": [
              "10744"
            ]
          },
          "metadata": {},
          "execution_count": 57
        }
      ]
    },
    {
      "cell_type": "markdown",
      "source": [
        "Faire un autre count\n",
        "\n",
        "*Le but c'est de déclencher la transformation persist avec l'action count*\n",
        "\n",
        "*La première fois, c'est plus lent car le persist n'est pas encore déclenché*\n"
      ],
      "metadata": {
        "id": "x9l0mr7si2YB"
      }
    },
    {
      "cell_type": "code",
      "source": [
        "rdd_gros.count()"
      ],
      "metadata": {
        "id": "F6WuSIfvi4vV",
        "colab": {
          "base_uri": "https://localhost:8080/"
        },
        "outputId": "e6720484-7b15-48be-aa07-66a29fe2363e"
      },
      "execution_count": 58,
      "outputs": [
        {
          "output_type": "execute_result",
          "data": {
            "text/plain": [
              "10744"
            ]
          },
          "metadata": {},
          "execution_count": 58
        }
      ]
    }
  ]
}